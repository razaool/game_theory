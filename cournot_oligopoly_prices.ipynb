{
  "cells": [
    {
      "cell_type": "markdown",
      "metadata": {},
      "source": [
        "# Cournot Oligopoly: How Prices Decrease with More Firms\n",
        "\n",
        "## Introduction\n",
        "\n",
        "The Cournot oligopoly model demonstrates a fundamental principle in industrial organization: **as the number of firms increases in a market, prices decrease and approach the competitive level**. This notebook explores this relationship through mathematical analysis and visualizations.\n",
        "\n",
        "## Key Concepts\n",
        "\n",
        "- **Cournot Competition**: Firms choose quantities simultaneously\n",
        "- **Market Power**: Ability to set prices above marginal cost\n",
        "- **Competitive Limit**: As n → ∞, price approaches marginal cost\n",
        "- **Welfare Effects**: Consumer surplus increases, producer surplus decreases\n"
      ]
    },
    {
      "cell_type": "code",
      "execution_count": 4,
      "metadata": {},
      "outputs": [
        {
          "name": "stdout",
          "output_type": "stream",
          "text": [
            "Libraries imported successfully!\n"
          ]
        }
      ],
      "source": [
        "import numpy as np\n",
        "import matplotlib.pyplot as plt\n",
        "import seaborn as sns\n",
        "import pandas as pd\n",
        "\n",
        "# Set up plotting style\n",
        "plt.style.use('seaborn-v0_8')\n",
        "sns.set_palette(\"husl\")\n",
        "\n",
        "print(\"Libraries imported successfully!\")\n"
      ]
    },
    {
      "cell_type": "markdown",
      "metadata": {},
      "source": [
        "## 1. Cournot Model Setup\n",
        "\n",
        "Let's define the basic Cournot model with:\n",
        "- **Demand**: P = a - bQ (linear demand)\n",
        "- **Cost**: C = cq (constant marginal cost)\n",
        "- **n firms**: Each firm chooses quantity q_i simultaneously\n"
      ]
    },
    {
      "cell_type": "code",
      "execution_count": 5,
      "metadata": {},
      "outputs": [
        {
          "name": "stdout",
          "output_type": "stream",
          "text": [
            "Demand function: P = 100 - 1Q\n",
            "Marginal cost: c = 10\n",
            "Competitive price (P = MC): 10\n",
            "Monopoly price: 55.0\n"
          ]
        }
      ],
      "source": [
        "# Model parameters\n",
        "a = 100  # Demand intercept\n",
        "b = 1    # Demand slope\n",
        "c = 10   # Marginal cost\n",
        "\n",
        "print(f\"Demand function: P = {a} - {b}Q\")\n",
        "print(f\"Marginal cost: c = {c}\")\n",
        "print(f\"Competitive price (P = MC): {c}\")\n",
        "print(f\"Monopoly price: {(a + c) / 2}\")\n"
      ]
    },
    {
      "cell_type": "markdown",
      "metadata": {},
      "source": [
        "## 2. Nash Equilibrium Solutions\n",
        "\n",
        "For n symmetric firms in Cournot competition, the Nash equilibrium is:\n",
        "\n",
        "- **Individual quantity**: q* = (a - c) / [b(n + 1)]\n",
        "- **Total quantity**: Q* = n(a - c) / [b(n + 1)]\n",
        "- **Market price**: P* = (a + nc) / (n + 1)\n",
        "- **Individual profit**: π* = (a - c)² / [b(n + 1)²]\n"
      ]
    },
    {
      "cell_type": "code",
      "execution_count": 6,
      "metadata": {},
      "outputs": [
        {
          "name": "stdout",
          "output_type": "stream",
          "text": [
            "Cournot Equilibrium Results:\n",
            "   n_firms  price  total_quantity  individual_profit  efficiency_ratio\n",
            "0        1  55.00           45.00            2025.00              0.75\n",
            "1        2  40.00           60.00             900.00              0.89\n",
            "2        3  32.50           67.50             506.25              0.94\n",
            "3        4  28.00           72.00             324.00              0.96\n",
            "4        5  25.00           75.00             225.00              0.97\n",
            "5       10  18.18           81.82              66.94              0.99\n",
            "6       20  14.29           85.71              18.37              1.00\n",
            "7       50  11.76           88.24               3.11              1.00\n",
            "8      100  10.89           89.11               0.79              1.00\n"
          ]
        }
      ],
      "source": [
        "def cournot_equilibrium(n_firms, a, b, c):\n",
        "    \"\"\"\n",
        "    Calculate Cournot equilibrium for n firms.\n",
        "    \n",
        "    Args:\n",
        "        n_firms: Number of firms\n",
        "        a, b, c: Demand and cost parameters\n",
        "    \n",
        "    Returns:\n",
        "        Dictionary with equilibrium values\n",
        "    \"\"\"\n",
        "    # Individual quantity\n",
        "    q_star = (a - c) / (b * (n_firms + 1))\n",
        "    \n",
        "    # Total quantity\n",
        "    Q_star = n_firms * q_star\n",
        "    \n",
        "    # Market price\n",
        "    P_star = (a + n_firms * c) / (n_firms + 1)\n",
        "    \n",
        "    # Individual profit\n",
        "    pi_star = (a - c)**2 / (b * (n_firms + 1)**2)\n",
        "    \n",
        "    # Total profit\n",
        "    total_pi = n_firms * pi_star\n",
        "    \n",
        "    # Consumer surplus\n",
        "    CS = 0.5 * (a - P_star) * Q_star\n",
        "    \n",
        "    # Producer surplus\n",
        "    PS = total_pi\n",
        "    \n",
        "    # Total surplus\n",
        "    TS = CS + PS\n",
        "    \n",
        "    # Competitive benchmark\n",
        "    Q_competitive = (a - c) / b\n",
        "    P_competitive = c\n",
        "    CS_competitive = 0.5 * (a - c) * Q_competitive\n",
        "    TS_competitive = CS_competitive\n",
        "    \n",
        "    return {\n",
        "        'n_firms': n_firms,\n",
        "        'individual_quantity': q_star,\n",
        "        'total_quantity': Q_star,\n",
        "        'price': P_star,\n",
        "        'individual_profit': pi_star,\n",
        "        'total_profit': total_pi,\n",
        "        'consumer_surplus': CS,\n",
        "        'producer_surplus': PS,\n",
        "        'total_surplus': TS,\n",
        "        'competitive_quantity': Q_competitive,\n",
        "        'competitive_price': P_competitive,\n",
        "        'competitive_consumer_surplus': CS_competitive,\n",
        "        'competitive_total_surplus': TS_competitive,\n",
        "        'efficiency_ratio': TS / TS_competitive,\n",
        "        'deadweight_loss': TS_competitive - TS\n",
        "    }\n",
        "\n",
        "# Test with different numbers of firms\n",
        "firm_counts = [1, 2, 3, 4, 5, 10, 20, 50, 100]\n",
        "results = []\n",
        "\n",
        "for n in firm_counts:\n",
        "    result = cournot_equilibrium(n, a, b, c)\n",
        "    results.append(result)\n",
        "\n",
        "# Create DataFrame for analysis\n",
        "df = pd.DataFrame(results)\n",
        "print(\"Cournot Equilibrium Results:\")\n",
        "print(df[['n_firms', 'price', 'total_quantity', 'individual_profit', 'efficiency_ratio']].round(2))\n"
      ]
    },
    {
      "cell_type": "markdown",
      "metadata": {},
      "source": [
        "## 3. Price Decrease Analysis\n",
        "\n",
        "Let's analyze how prices decrease as the number of firms increases:\n"
      ]
    },
    {
      "cell_type": "code",
      "execution_count": null,
      "metadata": {},
      "outputs": [],
      "source": [
        "# Create comprehensive analysis\n",
        "n_range = np.arange(1, 101)  # 1 to 100 firms\n",
        "prices = []\n",
        "quantities = []\n",
        "profits = []\n",
        "efficiency = []\n",
        "\n",
        "for n in n_range:\n",
        "    result = cournot_equilibrium(n, a, b, c)\n",
        "    prices.append(result['price'])\n",
        "    quantities.append(result['total_quantity'])\n",
        "    profits.append(result['total_profit'])\n",
        "    efficiency.append(result['efficiency_ratio'])\n",
        "\n",
        "# Create visualizations\n",
        "fig, axes = plt.subplots(2, 2, figsize=(15, 12))\n",
        "\n",
        "# Price vs Number of Firms\n",
        "axes[0, 0].plot(n_range, prices, 'b-', linewidth=2, label='Cournot Price')\n",
        "axes[0, 0].axhline(y=c, color='r', linestyle='--', label='Competitive Price (MC)')\n",
        "axes[0, 0].axhline(y=(a + c) / 2, color='g', linestyle='--', label='Monopoly Price')\n",
        "axes[0, 0].set_xlabel('Number of Firms')\n",
        "axes[0, 0].set_ylabel('Price')\n",
        "axes[0, 0].set_title('Price Decrease in Cournot Oligopoly')\n",
        "axes[0, 0].legend()\n",
        "axes[0, 0].grid(True, alpha=0.3)\n",
        "\n",
        "# Total Quantity vs Number of Firms\n",
        "axes[0, 1].plot(n_range, quantities, 'g-', linewidth=2, label='Total Quantity')\n",
        "axes[0, 1].axhline(y=(a - c) / b, color='r', linestyle='--', label='Competitive Quantity')\n",
        "axes[0, 1].set_xlabel('Number of Firms')\n",
        "axes[0, 1].set_ylabel('Total Quantity')\n",
        "axes[0, 1].set_title('Quantity Increase in Cournot Oligopoly')\n",
        "axes[0, 1].legend()\n",
        "axes[0, 1].grid(True, alpha=0.3)\n",
        "\n",
        "# Total Profit vs Number of Firms\n",
        "axes[1, 0].plot(n_range, profits, 'm-', linewidth=2, label='Total Profit')\n",
        "axes[1, 0].set_xlabel('Number of Firms')\n",
        "axes[1, 0].set_ylabel('Total Profit')\n",
        "axes[1, 0].set_title('Profit Decrease in Cournot Oligopoly')\n",
        "axes[1, 0].legend()\n",
        "axes[1, 0].grid(True, alpha=0.3)\n",
        "\n",
        "# Efficiency Ratio vs Number of Firms\n",
        "axes[1, 1].plot(n_range, efficiency, 'orange', linewidth=2, label='Efficiency Ratio')\n",
        "axes[1, 1].axhline(y=1, color='r', linestyle='--', label='Perfect Efficiency')\n",
        "axes[1, 1].set_xlabel('Number of Firms')\n",
        "axes[1, 1].set_ylabel('Efficiency Ratio')\n",
        "axes[1, 1].set_title('Market Efficiency in Cournot Oligopoly')\n",
        "axes[1, 1].legend()\n",
        "axes[1, 1].grid(True, alpha=0.3)\n",
        "\n",
        "plt.tight_layout()\n",
        "plt.show()\n",
        "\n",
        "# Print key insights\n",
        "print(\"=== KEY INSIGHTS ===\")\n",
        "print(f\"Monopoly (n=1): Price = {prices[0]:.2f}, Quantity = {quantities[0]:.2f}\")\n",
        "print(f\"Duopoly (n=2): Price = {prices[1]:.2f}, Quantity = {quantities[1]:.2f}\")\n",
        "print(f\"10 firms: Price = {prices[9]:.2f}, Quantity = {quantities[9]:.2f}\")\n",
        "print(f\"50 firms: Price = {prices[49]:.2f}, Quantity = {quantities[49]:.2f}\")\n",
        "print(f\"100 firms: Price = {prices[99]:.2f}, Quantity = {quantities[99]:.2f}\")\n",
        "print(f\"Competitive: Price = {c:.2f}, Quantity = {(a-c)/b:.2f}\")\n"
      ]
    },
    {
      "cell_type": "markdown",
      "metadata": {},
      "source": []
    }
  ],
  "metadata": {
    "kernelspec": {
      "display_name": "Python 3",
      "language": "python",
      "name": "python3"
    },
    "language_info": {
      "codemirror_mode": {
        "name": "ipython",
        "version": 3
      },
      "file_extension": ".py",
      "mimetype": "text/x-python",
      "name": "python",
      "nbconvert_exporter": "python",
      "pygments_lexer": "ipython3",
      "version": "3.9.6"
    }
  },
  "nbformat": 4,
  "nbformat_minor": 2
}
