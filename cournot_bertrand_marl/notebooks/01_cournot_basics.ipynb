{
  "cells": [
    {
      "cell_type": "markdown",
      "metadata": {},
      "source": [
        "# Cournot Competition: Game Theory and MARL\n",
        "\n",
        "This notebook demonstrates the basic Cournot competition model and its implementation using Multi-Agent Reinforcement Learning (MARL).\n",
        "\n",
        "## Overview\n",
        "\n",
        "Cournot competition is a classic economic model where firms compete by choosing production quantities simultaneously. The market price is determined by the total quantity supplied according to the demand function.\n",
        "\n",
        "### Key Concepts:\n",
        "\n",
        "- **Nash Equilibrium**: The optimal strategy profile where no firm can improve by unilaterally changing its strategy\n",
        "- **Best Response**: The optimal quantity for a firm given other firms' quantities\n",
        "- **Market Dynamics**: How prices and quantities evolve over time\n",
        "- **Learning**: How agents discover optimal strategies through interaction\n"
      ]
    },
    {
      "cell_type": "code",
      "execution_count": 2,
      "metadata": {},
      "outputs": [
        {
          "name": "stdout",
          "output_type": "stream",
          "text": [
            "Libraries imported successfully!\n"
          ]
        }
      ],
      "source": [
        "# Import necessary libraries\n",
        "import sys\n",
        "import os\n",
        "sys.path.append(os.path.join('..', 'src'))\n",
        "\n",
        "import numpy as np\n",
        "import matplotlib.pyplot as plt\n",
        "import seaborn as sns\n",
        "from typing import List, Tuple\n",
        "\n",
        "# Import our game theory classes\n",
        "from environments.cournot_game import CournotGame\n",
        "from agents.best_response_agent import BestResponseAgent\n",
        "from agents.q_learning_agent import QLearningAgent\n",
        "\n",
        "# Set up plotting style\n",
        "plt.style.use('seaborn-v0_8')\n",
        "sns.set_palette(\"husl\")\n",
        "\n",
        "print(\"Libraries imported successfully!\")\n"
      ]
    },
    {
      "cell_type": "markdown",
      "metadata": {},
      "source": [
        "## 1. Basic Cournot Game Setup\n",
        "\n",
        "Let's start by creating a simple Cournot game with 2 firms and analyzing its properties.\n"
      ]
    },
    {
      "cell_type": "code",
      "execution_count": 3,
      "metadata": {},
      "outputs": [
        {
          "name": "stdout",
          "output_type": "stream",
          "text": [
            "Game created: CournotGame(n_firms=2, demand_params=(100, 1), cost_params=10)\n",
            "Number of firms: 2\n",
            "Demand function: P = 100 - 1*Q\n",
            "Marginal cost: 10\n"
          ]
        }
      ],
      "source": [
        "# Create a Cournot game with 2 firms\n",
        "# Demand: P = 100 - Q (where Q is total quantity)\n",
        "# Marginal cost: c = 10\n",
        "game = CournotGame(\n",
        "    n_firms=2,\n",
        "    demand_params=(100, 1),  # P = 100 - Q\n",
        "    cost_params=10,          # Marginal cost = 10\n",
        "    max_quantity=50\n",
        ")\n",
        "\n",
        "print(f\"Game created: {game}\")\n",
        "print(f\"Number of firms: {game.n_firms}\")\n",
        "print(f\"Demand function: P = {game.demand_params[0]} - {game.demand_params[1]}*Q\")\n",
        "print(f\"Marginal cost: {game.cost_params}\")\n"
      ]
    },
    {
      "cell_type": "markdown",
      "metadata": {},
      "source": [
        "## 2. Nash Equilibrium Analysis\n",
        "\n",
        "Let's calculate and analyze the Nash equilibrium of this game.\n"
      ]
    },
    {
      "cell_type": "code",
      "execution_count": 4,
      "metadata": {},
      "outputs": [
        {
          "name": "stdout",
          "output_type": "stream",
          "text": [
            "=== NASH EQUILIBRIUM ANALYSIS ===\n",
            "Equilibrium quantities: ['30.00', '30.00']\n",
            "Equilibrium price: 40.00\n",
            "Equilibrium payoffs: ['900.00', '900.00']\n",
            "Total quantity: 60.00\n",
            "Total profit: 1800.00\n",
            "\n",
            "=== EFFICIENCY METRICS ===\n",
            "consumer_surplus: 1800.00\n",
            "producer_surplus: 1800.00\n",
            "total_surplus: 3600.00\n",
            "efficiency_ratio: 0.89\n",
            "deadweight_loss: 450.00\n",
            "competitive_quantity: 90.00\n",
            "competitive_price: 10.00\n"
          ]
        }
      ],
      "source": [
        "# Calculate Nash equilibrium\n",
        "nash_quantities, nash_price, nash_payoffs = game.get_nash_equilibrium()\n",
        "\n",
        "print(\"=== NASH EQUILIBRIUM ANALYSIS ===\")\n",
        "print(f\"Equilibrium quantities: {[f'{q:.2f}' for q in nash_quantities]}\")\n",
        "print(f\"Equilibrium price: {nash_price:.2f}\")\n",
        "print(f\"Equilibrium payoffs: {[f'{p:.2f}' for p in nash_payoffs]}\")\n",
        "print(f\"Total quantity: {sum(nash_quantities):.2f}\")\n",
        "print(f\"Total profit: {sum(nash_payoffs):.2f}\")\n",
        "\n",
        "# Calculate efficiency metrics\n",
        "efficiency_metrics = game.get_efficiency_metrics(nash_quantities)\n",
        "print(\"\\n=== EFFICIENCY METRICS ===\")\n",
        "for metric, value in efficiency_metrics.items():\n",
        "    print(f\"{metric}: {value:.2f}\")\n"
      ]
    }
  ],
  "metadata": {
    "kernelspec": {
      "display_name": "Python 3",
      "language": "python",
      "name": "python3"
    },
    "language_info": {
      "codemirror_mode": {
        "name": "ipython",
        "version": 3
      },
      "file_extension": ".py",
      "mimetype": "text/x-python",
      "name": "python",
      "nbconvert_exporter": "python",
      "pygments_lexer": "ipython3",
      "version": "3.9.6"
    }
  },
  "nbformat": 4,
  "nbformat_minor": 2
}
